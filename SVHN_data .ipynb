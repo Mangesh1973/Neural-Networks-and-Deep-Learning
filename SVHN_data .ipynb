{
 "cells": [
  {
   "cell_type": "code",
   "execution_count": 0,
   "metadata": {
    "colab": {},
    "colab_type": "code",
    "id": "YqCDJb2GLm5H"
   },
   "outputs": [],
   "source": [
    "# Code to read csv file into colaboratory:\n",
    "!pip install -U -q PyDrive\n",
    "from pydrive.auth import GoogleAuth\n",
    "from pydrive.drive import GoogleDrive\n",
    "from google.colab import auth\n",
    "from oauth2client.client import GoogleCredentials"
   ]
  },
  {
   "cell_type": "code",
   "execution_count": 0,
   "metadata": {
    "colab": {},
    "colab_type": "code",
    "id": "68dYw7xDL94h"
   },
   "outputs": [],
   "source": [
    "auth.authenticate_user()\n",
    "gauth = GoogleAuth()\n",
    "gauth.credentials = GoogleCredentials.get_application_default()\n",
    "drive = GoogleDrive(gauth)\n"
   ]
  },
  {
   "cell_type": "code",
   "execution_count": 0,
   "metadata": {
    "colab": {},
    "colab_type": "code",
    "id": "gf9_3R0QML_I"
   },
   "outputs": [],
   "source": [
    "import h5py\n",
    "import numpy as np"
   ]
  },
  {
   "cell_type": "code",
   "execution_count": 0,
   "metadata": {
    "colab": {},
    "colab_type": "code",
    "id": "gLlL5ZL9NRTr"
   },
   "outputs": [],
   "source": [
    "h5f = drive.CreateFile({'id':'1wny1UsY97XmoIE4sfyMMDrwLPDedMPoB'}) # replace the id with id of file you want to access\n",
    "h5f.GetContentFile('SVHN.h5')"
   ]
  },
  {
   "cell_type": "code",
   "execution_count": 0,
   "metadata": {
    "colab": {},
    "colab_type": "code",
    "id": "2x0qQoUTNjlO"
   },
   "outputs": [],
   "source": [
    "\n",
    "h5f =h5py.File('SVHN.h5','r')"
   ]
  },
  {
   "cell_type": "code",
   "execution_count": 0,
   "metadata": {
    "colab": {},
    "colab_type": "code",
    "id": "mieepi-rPczX"
   },
   "outputs": [],
   "source": [
    "X_train = h5f['X_train'][:]\n",
    "y_train1= h5f['y_train'][:]\n",
    "X_test= h5f['X_test'][:]\n",
    "y_test1= h5f['y_test'][:]"
   ]
  },
  {
   "cell_type": "code",
   "execution_count": 7,
   "metadata": {
    "colab": {
     "base_uri": "https://localhost:8080/",
     "height": 35
    },
    "colab_type": "code",
    "id": "Oop1NHaIPgQl",
    "outputId": "0188b797-23a9-4100-9a78-b3691e0aa610"
   },
   "outputs": [
    {
     "data": {
      "text/plain": [
       "<bound method File.close of <HDF5 file \"SVHN.h5\" (mode r)>>"
      ]
     },
     "execution_count": 7,
     "metadata": {
      "tags": []
     },
     "output_type": "execute_result"
    }
   ],
   "source": [
    "h5f.close"
   ]
  },
  {
   "cell_type": "code",
   "execution_count": 8,
   "metadata": {
    "colab": {
     "base_uri": "https://localhost:8080/",
     "height": 81
    },
    "colab_type": "code",
    "id": "MsAE6bQFPny8",
    "outputId": "7cdfb736-5b6a-4dd3-9265-9df250c5eb18"
   },
   "outputs": [
    {
     "name": "stderr",
     "output_type": "stream",
     "text": [
      "Using TensorFlow backend.\n"
     ]
    },
    {
     "data": {
      "text/html": [
       "<p style=\"color: red;\">\n",
       "The default version of TensorFlow in Colab will soon switch to TensorFlow 2.x.<br>\n",
       "We recommend you <a href=\"https://www.tensorflow.org/guide/migrate\" target=\"_blank\">upgrade</a> now \n",
       "or ensure your notebook will continue to use TensorFlow 1.x via the <code>%tensorflow_version 1.x</code> magic:\n",
       "<a href=\"https://colab.research.google.com/notebooks/tensorflow_version.ipynb\" target=\"_blank\">more info</a>.</p>\n"
      ],
      "text/plain": [
       "<IPython.core.display.HTML object>"
      ]
     },
     "metadata": {
      "tags": []
     },
     "output_type": "display_data"
    }
   ],
   "source": [
    "import numpy as np\n",
    "from keras.datasets import mnist\n",
    "from keras.models import Sequential\n",
    "\n"
   ]
  },
  {
   "cell_type": "code",
   "execution_count": 0,
   "metadata": {
    "colab": {},
    "colab_type": "code",
    "id": "csdaAWFUReuS"
   },
   "outputs": [],
   "source": [
    "from keras.utils import np_utils\n"
   ]
  },
  {
   "cell_type": "code",
   "execution_count": 0,
   "metadata": {
    "colab": {},
    "colab_type": "code",
    "id": "4Vt_Hwg2SJDY"
   },
   "outputs": [],
   "source": [
    "from keras.layers import Dense, Dropout, Activation, Flatten\n"
   ]
  },
  {
   "cell_type": "code",
   "execution_count": 0,
   "metadata": {
    "colab": {},
    "colab_type": "code",
    "id": "4_Yz4i3zSSa1"
   },
   "outputs": [],
   "source": [
    "# fix random seed for reproducability \n",
    "seed = 7\n",
    "np.random.seed(seed)"
   ]
  },
  {
   "cell_type": "code",
   "execution_count": 12,
   "metadata": {
    "colab": {
     "base_uri": "https://localhost:8080/",
     "height": 629
    },
    "colab_type": "code",
    "id": "2w6Lqc5iSy1o",
    "outputId": "bb5492ca-3cee-4b78-c55f-84d203cb35b1"
   },
   "outputs": [
    {
     "data": {
      "image/png": "[encoded data removed]",
      "text/plain": [
       "<Figure size 720x72 with 1 Axes>"
      ]
     },
     "metadata": {
      "tags": []
     },
     "output_type": "display_data"
    },
    {
     "name": "stdout",
     "output_type": "stream",
     "text": [
      "label for each of the above image:[2 6 7 4 4 0 3 0 7 3]\n"
     ]
    },
    {
     "data": {
      "image/png": "[encoded data removed]",
      "text/plain": [
       "<Figure size 432x288 with 1 Axes>"
      ]
     },
     "metadata": {
      "tags": []
     },
     "output_type": "display_data"
    },
    {
     "name": "stdout",
     "output_type": "stream",
     "text": [
      "label for each of the above image:[2 6 7 4 4 0 3 0 7 3]\n"
     ]
    },
    {
     "data": {
      "image/png": "[encoded data removed]",
      "text/plain": [
       "<Figure size 432x288 with 1 Axes>"
      ]
     },
     "metadata": {
      "tags": []
     },
     "output_type": "display_data"
    },
    {
     "name": "stdout",
     "output_type": "stream",
     "text": [
      "label for each of the above image:[2 6 7 4 4 0 3 0 7 3]\n"
     ]
    },
    {
     "data": {
      "image/png": "[encoded data removed]",
      "text/plain": [
       "<Figure size 432x288 with 1 Axes>"
      ]
     },
     "metadata": {
      "tags": []
     },
     "output_type": "display_data"
    },
    {
     "name": "stdout",
     "output_type": "stream",
     "text": [
      "label for each of the above image:[2 6 7 4 4 0 3 0 7 3]\n"
     ]
    },
    {
     "data": {
      "image/png": "[encoded data removed]",
      "text/plain": [
       "<Figure size 432x288 with 1 Axes>"
      ]
     },
     "metadata": {
      "tags": []
     },
     "output_type": "display_data"
    },
    {
     "name": "stdout",
     "output_type": "stream",
     "text": [
      "label for each of the above image:[2 6 7 4 4 0 3 0 7 3]\n"
     ]
    },
    {
     "data": {
      "image/png": "[encoded data removed]",
      "text/plain": [
       "<Figure size 432x288 with 1 Axes>"
      ]
     },
     "metadata": {
      "tags": []
     },
     "output_type": "display_data"
    },
    {
     "name": "stdout",
     "output_type": "stream",
     "text": [
      "label for each of the above image:[2 6 7 4 4 0 3 0 7 3]\n"
     ]
    },
    {
     "data": {
      "image/png": "[encoded data removed]",
      "text/plain": [
       "<Figure size 432x288 with 1 Axes>"
      ]
     },
     "metadata": {
      "tags": []
     },
     "output_type": "display_data"
    },
    {
     "name": "stdout",
     "output_type": "stream",
     "text": [
      "label for each of the above image:[2 6 7 4 4 0 3 0 7 3]\n"
     ]
    },
    {
     "data": {
      "image/png": "[encoded data removed]",
      "text/plain": [
       "<Figure size 432x288 with 1 Axes>"
      ]
     },
     "metadata": {
      "tags": []
     },
     "output_type": "display_data"
    },
    {
     "name": "stdout",
     "output_type": "stream",
     "text": [
      "label for each of the above image:[2 6 7 4 4 0 3 0 7 3]\n"
     ]
    },
    {
     "data": {
      "image/png": "[encoded data removed]",
      "text/plain": [
       "<Figure size 432x288 with 1 Axes>"
      ]
     },
     "metadata": {
      "tags": []
     },
     "output_type": "display_data"
    },
    {
     "name": "stdout",
     "output_type": "stream",
     "text": [
      "label for each of the above image:[2 6 7 4 4 0 3 0 7 3]\n"
     ]
    },
    {
     "data": {
      "image/png": "[encoded data removed]",
      "text/plain": [
       "<Figure size 432x288 with 1 Axes>"
      ]
     },
     "metadata": {
      "tags": []
     },
     "output_type": "display_data"
    },
    {
     "name": "stdout",
     "output_type": "stream",
     "text": [
      "label for each of the above image:[2 6 7 4 4 0 3 0 7 3]\n"
     ]
    }
   ],
   "source": [
    "%matplotlib inline\n",
    "import matplotlib.pyplot as plt\n",
    "plt.figure(figsize=(10,1))\n",
    "for i in range(10):\n",
    "  plt.subplot(1,10,i+1)\n",
    "  plt.imshow(X_train[i], cmap=\"gray\")\n",
    "  plt.axis('off')\n",
    "  plt.show()\n",
    "  print('label for each of the above image:%s'%(y_train1[0:10]))\n"
   ]
  },
  {
   "cell_type": "code",
   "execution_count": 0,
   "metadata": {
    "colab": {},
    "colab_type": "code",
    "id": "yi0x8MDXVLx6"
   },
   "outputs": [],
   "source": [
    "X_train= X_train.reshape(X_train.shape[0],1024)\n",
    "X_test = X_test.reshape(X_test.shape[0],1024)"
   ]
  },
  {
   "cell_type": "code",
   "execution_count": 14,
   "metadata": {
    "colab": {
     "base_uri": "https://localhost:8080/",
     "height": 52
    },
    "colab_type": "code",
    "id": "tcmD8pamVN3p",
    "outputId": "96f96846-3471-4a6e-e8d9-22f922562d35"
   },
   "outputs": [
    {
     "name": "stdout",
     "output_type": "stream",
     "text": [
      "Training set (42000, 1024) (42000,)\n",
      "Testset (18000, 1024) (18000,)\n"
     ]
    }
   ],
   "source": [
    "# #normalize inputs from 0-255 to 0-1\n",
    "X_train= X_train/255.0\n",
    "X_test =X_test/255.0\n",
    "print('Training set',X_train.shape,y_train1.shape)\n",
    "print('Testset',X_test.shape,y_test1.shape)\n"
   ]
  },
  {
   "cell_type": "code",
   "execution_count": 15,
   "metadata": {
    "colab": {
     "base_uri": "https://localhost:8080/",
     "height": 52
    },
    "colab_type": "code",
    "id": "gbZ7WgASWbri",
    "outputId": "c30ab086-4186-4f05-cec8-318ac4551292"
   },
   "outputs": [
    {
     "name": "stdout",
     "output_type": "stream",
     "text": [
      "(18000, 1024)\n",
      "(18000,)\n"
     ]
    }
   ],
   "source": [
    "print(X_test.shape)\n",
    "print(y_test1.shape)"
   ]
  },
  {
   "cell_type": "code",
   "execution_count": 16,
   "metadata": {
    "colab": {
     "base_uri": "https://localhost:8080/",
     "height": 35
    },
    "colab_type": "code",
    "id": "XGzxkiG9XrXP",
    "outputId": "88e74c1d-8dde-4848-ee75-9697065f83ed"
   },
   "outputs": [
    {
     "data": {
      "text/plain": [
       "10"
      ]
     },
     "execution_count": 16,
     "metadata": {
      "tags": []
     },
     "output_type": "execute_result"
    }
   ],
   "source": [
    "# one hot encode outputs\n",
    "y_train = np_utils.to_categorical(y_train1)\n",
    "y_test=np_utils.to_categorical(y_test1)\n",
    "\n",
    "#no of classes\n",
    "num_classes= y_test.shape[1]\n",
    "num_hidden=32\n",
    "num_classes"
   ]
  },
  {
   "cell_type": "code",
   "execution_count": 0,
   "metadata": {
    "colab": {},
    "colab_type": "code",
    "id": "aZYUvCdQXzB0"
   },
   "outputs": [],
   "source": [
    "x_tr = []\n",
    "for i in range (42000):\n",
    "  x_tr.append(X_train[i,:].flatten())\n",
    "x_te=[]\n",
    "for i in range(18000):\n",
    "  x_te.append(X_test[i,:].flatten())"
   ]
  },
  {
   "cell_type": "code",
   "execution_count": 0,
   "metadata": {
    "colab": {},
    "colab_type": "code",
    "id": "37DiLq-nZW_J"
   },
   "outputs": [],
   "source": [
    "x_tr =x_tr[:2000]\n",
    "x_te= x_te[:2000]\n",
    "\n",
    "y_tr= y_train1[0:2000]\n",
    "y_te =y_test1[0:2000]"
   ]
  },
  {
   "cell_type": "code",
   "execution_count": 19,
   "metadata": {
    "colab": {
     "base_uri": "https://localhost:8080/",
     "height": 87
    },
    "colab_type": "code",
    "id": "3Zc8lu2yZwJ8",
    "outputId": "b73e1a63-a347-42a3-dac5-93144a5131a8"
   },
   "outputs": [
    {
     "name": "stdout",
     "output_type": "stream",
     "text": [
      "2000\n",
      "2000\n",
      "2000\n",
      "2000\n"
     ]
    }
   ],
   "source": [
    "print(len(x_tr))\n",
    "print(len(y_tr))\n",
    "print(len(x_te))\n",
    "print(len(y_te))"
   ]
  },
  {
   "cell_type": "code",
   "execution_count": 0,
   "metadata": {
    "colab": {},
    "colab_type": "code",
    "id": "VMTUn0y2aBNA"
   },
   "outputs": [],
   "source": [
    "a=[]\n",
    "j=[]\n",
    "def knnvalue(k):\n",
    "  from sklearn.neighbors import KNeighborsClassifier\n",
    "  NHH = KNeighborsClassifier(n_neighbors=k,weights='uniform')\n",
    "  NHH.fit(x_tr,y_tr)\n",
    "  predicted_labels= NHH.predict(x_te)\n",
    "  from sklearn.metrics import accuracy_score\n",
    "  ascore= accuracy_score(y_te,predicted_labels)\n",
    "  MSE= 1-ascore\n",
    "  a.append(MSE)\n",
    "  j.append(k)\n",
    "  print(ascore)\n",
    " \n"
   ]
  },
  {
   "cell_type": "code",
   "execution_count": 21,
   "metadata": {
    "colab": {
     "base_uri": "https://localhost:8080/",
     "height": 277
    },
    "colab_type": "code",
    "id": "s3_w1XWIc4Hl",
    "outputId": "d6fdf54e-c3e1-4303-c883-a32e61a9f421"
   },
   "outputs": [
    {
     "name": "stdout",
     "output_type": "stream",
     "text": [
      "0.2975\n",
      "0.292\n",
      "0.3015\n",
      "0.307\n",
      "0.3055\n",
      "0.311\n",
      "0.2975\n",
      "0.294\n",
      "0.2975\n",
      "0.2935\n",
      "0.2945\n",
      "0.2955\n",
      "0.2865\n",
      "0.2805\n",
      "0.279\n"
     ]
    }
   ],
   "source": [
    "for i in range(1,30,2):\n",
    "  knnvalue(i)\n",
    "  \n"
   ]
  },
  {
   "cell_type": "code",
   "execution_count": 0,
   "metadata": {
    "colab": {},
    "colab_type": "code",
    "id": "8cdjl6EihbBt"
   },
   "outputs": [],
   "source": [
    "# for the above run the KNN value is the lowest for K=11\n",
    "from sklearn.neighbors import KNeighborsClassifier\n",
    "NHH = KNeighborsClassifier(n_neighbors=11,weights='uniform')\n",
    "NHH.fit(x_tr,y_tr)\n",
    "pred= NHH.predict(x_te)"
   ]
  },
  {
   "cell_type": "code",
   "execution_count": 23,
   "metadata": {
    "colab": {
     "base_uri": "https://localhost:8080/",
     "height": 35
    },
    "colab_type": "code",
    "id": "fTVr5IWBi53C",
    "outputId": "ed314a5f-977d-4cc8-fc16-6de3f8c5dea0"
   },
   "outputs": [
    {
     "data": {
      "text/plain": [
       "2000"
      ]
     },
     "execution_count": 23,
     "metadata": {
      "tags": []
     },
     "output_type": "execute_result"
    }
   ],
   "source": [
    "len(pred)"
   ]
  },
  {
   "cell_type": "code",
   "execution_count": 24,
   "metadata": {
    "colab": {
     "base_uri": "https://localhost:8080/",
     "height": 35
    },
    "colab_type": "code",
    "id": "VjjfKF2bi9Dv",
    "outputId": "2201359a-caee-47b6-9c3f-fb8d51b84e21"
   },
   "outputs": [
    {
     "data": {
      "text/plain": [
       "6"
      ]
     },
     "execution_count": 24,
     "metadata": {
      "tags": []
     },
     "output_type": "execute_result"
    }
   ],
   "source": [
    "pred[0]"
   ]
  },
  {
   "cell_type": "code",
   "execution_count": 25,
   "metadata": {
    "colab": {
     "base_uri": "https://localhost:8080/",
     "height": 35
    },
    "colab_type": "code",
    "id": "kuPUbmLpjCF3",
    "outputId": "e00dc2ea-51f9-4668-96e0-404abe443810"
   },
   "outputs": [
    {
     "data": {
      "text/plain": [
       "0"
      ]
     },
     "execution_count": 25,
     "metadata": {
      "tags": []
     },
     "output_type": "execute_result"
    }
   ],
   "source": [
    "pred[1]"
   ]
  },
  {
   "cell_type": "code",
   "execution_count": 26,
   "metadata": {
    "colab": {
     "base_uri": "https://localhost:8080/",
     "height": 35
    },
    "colab_type": "code",
    "id": "GlYdf1BijGSW",
    "outputId": "10ba9d08-7c11-4147-fe07-e0092149f8e8"
   },
   "outputs": [
    {
     "data": {
      "text/plain": [
       "1"
      ]
     },
     "execution_count": 26,
     "metadata": {
      "tags": []
     },
     "output_type": "execute_result"
    }
   ],
   "source": [
    "y_te[0]"
   ]
  },
  {
   "cell_type": "code",
   "execution_count": 27,
   "metadata": {
    "colab": {
     "base_uri": "https://localhost:8080/",
     "height": 312
    },
    "colab_type": "code",
    "id": "sYXVwUY6iKdH",
    "outputId": "f894e683-731f-4296-a61c-a99108976146"
   },
   "outputs": [
    {
     "name": "stdout",
     "output_type": "stream",
     "text": [
      "              precision    recall  f1-score   support\n",
      "\n",
      "           0       0.48      0.29      0.36       363\n",
      "           1       0.55      0.31      0.40       325\n",
      "           2       0.39      0.26      0.31       277\n",
      "           3       0.19      0.22      0.21       164\n",
      "           4       0.46      0.42      0.44       219\n",
      "           5       0.20      0.33      0.25       132\n",
      "           6       0.25      0.27      0.26       190\n",
      "           7       0.32      0.49      0.39       132\n",
      "           8       0.10      0.32      0.15        60\n",
      "           9       0.18      0.26      0.21       138\n",
      "\n",
      "    accuracy                           0.31      2000\n",
      "   macro avg       0.31      0.32      0.30      2000\n",
      "weighted avg       0.37      0.31      0.32      2000\n",
      "\n"
     ]
    }
   ],
   "source": [
    "# Finding out the confusion matrix and accuracy \n",
    "from sklearn.metrics import confusion_matrix\n",
    "from sklearn.metrics import classification_report\n",
    "print(classification_report(pred,y_te))"
   ]
  },
  {
   "cell_type": "code",
   "execution_count": 0,
   "metadata": {
    "colab": {},
    "colab_type": "code",
    "id": "qSUN40IQjbEd"
   },
   "outputs": [],
   "source": [
    "# inference from the above classification report the accuracy is about 30% which is very poor so KNN is not suitable model need to explore more"
   ]
  },
  {
   "cell_type": "code",
   "execution_count": 0,
   "metadata": {
    "colab": {},
    "colab_type": "code",
    "id": "sEYy2JJZkN27"
   },
   "outputs": [],
   "source": [
    "# define model\n",
    "import keras\n",
    "from keras import losses\n",
    "from keras import optimizers\n",
    "from keras.layers import Dropout,MaxPooling2D\n",
    "from keras.layers import BatchNormalization"
   ]
  },
  {
   "cell_type": "code",
   "execution_count": 30,
   "metadata": {
    "colab": {
     "base_uri": "https://localhost:8080/",
     "height": 1000
    },
    "colab_type": "code",
    "id": "SvlsbcnYk-sp",
    "outputId": "f681566b-df65-46ba-c505-7e4b22a0ee65"
   },
   "outputs": [
    {
     "name": "stdout",
     "output_type": "stream",
     "text": [
      "WARNING:tensorflow:From /usr/local/lib/python3.6/dist-packages/tensorflow_core/python/ops/math_grad.py:1424: where (from tensorflow.python.ops.array_ops) is deprecated and will be removed in a future version.\n",
      "Instructions for updating:\n",
      "Use tf.where in 2.0, which has the same broadcast rule as np.where\n",
      "WARNING:tensorflow:From /usr/local/lib/python3.6/dist-packages/keras/backend/tensorflow_backend.py:1033: The name tf.assign_add is deprecated. Please use tf.compat.v1.assign_add instead.\n",
      "\n",
      "WARNING:tensorflow:From /usr/local/lib/python3.6/dist-packages/keras/backend/tensorflow_backend.py:1020: The name tf.assign is deprecated. Please use tf.compat.v1.assign instead.\n",
      "\n",
      "WARNING:tensorflow:From /usr/local/lib/python3.6/dist-packages/keras/backend/tensorflow_backend.py:3005: The name tf.Session is deprecated. Please use tf.compat.v1.Session instead.\n",
      "\n",
      "Train on 18000 samples, validate on 18000 samples\n",
      "Epoch 1/30\n",
      "WARNING:tensorflow:From /usr/local/lib/python3.6/dist-packages/keras/backend/tensorflow_backend.py:190: The name tf.get_default_session is deprecated. Please use tf.compat.v1.get_default_session instead.\n",
      "\n",
      "WARNING:tensorflow:From /usr/local/lib/python3.6/dist-packages/keras/backend/tensorflow_backend.py:197: The name tf.ConfigProto is deprecated. Please use tf.compat.v1.ConfigProto instead.\n",
      "\n",
      "WARNING:tensorflow:From /usr/local/lib/python3.6/dist-packages/keras/backend/tensorflow_backend.py:207: The name tf.global_variables is deprecated. Please use tf.compat.v1.global_variables instead.\n",
      "\n",
      "WARNING:tensorflow:From /usr/local/lib/python3.6/dist-packages/keras/backend/tensorflow_backend.py:216: The name tf.is_variable_initialized is deprecated. Please use tf.compat.v1.is_variable_initialized instead.\n",
      "\n",
      "WARNING:tensorflow:From /usr/local/lib/python3.6/dist-packages/keras/backend/tensorflow_backend.py:223: The name tf.variables_initializer is deprecated. Please use tf.compat.v1.variables_initializer instead.\n",
      "\n",
      " - 3s - loss: 1.9386 - acc: 0.3234 - val_loss: 1.4032 - val_acc: 0.5502\n",
      "Epoch 2/30\n",
      " - 2s - loss: 1.2347 - acc: 0.6059 - val_loss: 1.0486 - val_acc: 0.6711\n",
      "Epoch 3/30\n",
      " - 2s - loss: 0.9936 - acc: 0.6889 - val_loss: 0.8793 - val_acc: 0.7276\n",
      "Epoch 4/30\n",
      " - 2s - loss: 0.8779 - acc: 0.7242 - val_loss: 0.7674 - val_acc: 0.7617\n",
      "Epoch 5/30\n",
      " - 2s - loss: 0.7806 - acc: 0.7554 - val_loss: 0.7021 - val_acc: 0.7785\n",
      "Epoch 6/30\n",
      " - 2s - loss: 0.7290 - acc: 0.7709 - val_loss: 0.6311 - val_acc: 0.7995\n",
      "Epoch 7/30\n",
      " - 2s - loss: 0.6677 - acc: 0.7921 - val_loss: 0.6021 - val_acc: 0.8082\n",
      "Epoch 8/30\n",
      " - 2s - loss: 0.6288 - acc: 0.8026 - val_loss: 0.5501 - val_acc: 0.8278\n",
      "Epoch 9/30\n",
      " - 2s - loss: 0.5848 - acc: 0.8138 - val_loss: 0.5015 - val_acc: 0.8448\n",
      "Epoch 10/30\n",
      " - 2s - loss: 0.5550 - acc: 0.8258 - val_loss: 0.4660 - val_acc: 0.8579\n",
      "Epoch 11/30\n",
      " - 2s - loss: 0.5264 - acc: 0.8338 - val_loss: 0.4557 - val_acc: 0.8598\n",
      "Epoch 12/30\n",
      " - 2s - loss: 0.5081 - acc: 0.8404 - val_loss: 0.4254 - val_acc: 0.8682\n",
      "Epoch 13/30\n",
      " - 2s - loss: 0.4711 - acc: 0.8513 - val_loss: 0.3972 - val_acc: 0.8756\n",
      "Epoch 14/30\n",
      " - 2s - loss: 0.4502 - acc: 0.8576 - val_loss: 0.3630 - val_acc: 0.8884\n",
      "Epoch 15/30\n",
      " - 2s - loss: 0.4177 - acc: 0.8686 - val_loss: 0.3634 - val_acc: 0.8866\n",
      "Epoch 16/30\n",
      " - 2s - loss: 0.4053 - acc: 0.8703 - val_loss: 0.3927 - val_acc: 0.8772\n",
      "Epoch 17/30\n",
      " - 2s - loss: 0.3898 - acc: 0.8762 - val_loss: 0.3613 - val_acc: 0.8906\n",
      "Epoch 18/30\n",
      " - 2s - loss: 0.3716 - acc: 0.8825 - val_loss: 0.4198 - val_acc: 0.8662\n",
      "Epoch 19/30\n",
      " - 2s - loss: 0.3895 - acc: 0.8749 - val_loss: 0.2942 - val_acc: 0.9075\n",
      "Epoch 20/30\n",
      " - 2s - loss: 0.3458 - acc: 0.8883 - val_loss: 0.2824 - val_acc: 0.9131\n",
      "Epoch 21/30\n",
      " - 2s - loss: 0.3413 - acc: 0.8919 - val_loss: 0.2813 - val_acc: 0.9127\n",
      "Epoch 22/30\n",
      " - 2s - loss: 0.3147 - acc: 0.9001 - val_loss: 0.2502 - val_acc: 0.9243\n",
      "Epoch 23/30\n",
      " - 2s - loss: 0.3164 - acc: 0.9002 - val_loss: 0.2538 - val_acc: 0.9230\n",
      "Epoch 24/30\n",
      " - 2s - loss: 0.2919 - acc: 0.9079 - val_loss: 0.2228 - val_acc: 0.9328\n",
      "Epoch 25/30\n",
      " - 2s - loss: 0.2758 - acc: 0.9121 - val_loss: 0.2700 - val_acc: 0.9158\n",
      "Epoch 26/30\n",
      " - 2s - loss: 0.2833 - acc: 0.9094 - val_loss: 0.2483 - val_acc: 0.9232\n",
      "Epoch 27/30\n",
      " - 2s - loss: 0.2843 - acc: 0.9094 - val_loss: 0.2064 - val_acc: 0.9371\n",
      "Epoch 28/30\n",
      " - 2s - loss: 0.2572 - acc: 0.9208 - val_loss: 0.2065 - val_acc: 0.9391\n",
      "Epoch 29/30\n",
      " - 2s - loss: 0.2676 - acc: 0.9139 - val_loss: 0.1973 - val_acc: 0.9398\n",
      "Epoch 30/30\n",
      " - 2s - loss: 0.2365 - acc: 0.9224 - val_loss: 0.2193 - val_acc: 0.9344\n",
      "Error:6.56%\n",
      "Model: \"sequential_2\"\n",
      "_________________________________________________________________\n",
      "Layer (type)                 Output Shape              Param #   \n",
      "=================================================================\n",
      "batch_normalization_2 (Batch (None, 1024)              4096      \n",
      "_________________________________________________________________\n",
      "dense_5 (Dense)              (None, 256)               262400    \n",
      "_________________________________________________________________\n",
      "dense_6 (Dense)              (None, 64)                16448     \n",
      "_________________________________________________________________\n",
      "dense_7 (Dense)              (None, 32)                2080      \n",
      "_________________________________________________________________\n",
      "dense_8 (Dense)              (None, 10)                330       \n",
      "=================================================================\n",
      "Total params: 285,354\n",
      "Trainable params: 283,306\n",
      "Non-trainable params: 2,048\n",
      "_________________________________________________________________\n"
     ]
    }
   ],
   "source": [
    "# create model\n",
    "def nn_model():\n",
    "  model= Sequential()\n",
    "  model.add(BatchNormalization(input_shape=((1024,)))) \n",
    "  model.add(Dense(256,activation='relu'))\n",
    "  model.add(Dense(64,activation='relu'))\n",
    "  model.add(Dense(32,activation='relu'))\n",
    "  model.add(Dense(num_classes,activation='softmax'))\n",
    "  # compile the model\n",
    "  sgd= optimizers.Adam(lr =1e-3)\n",
    "  model.compile(loss=losses.categorical_crossentropy,optimizer=sgd,metrics=['accuracy'])\n",
    "  return model\n",
    "# Build the model\n",
    "model = nn_model()\n",
    "# Fit the model\n",
    "history = model.fit(X_test,y_test, validation_data=(X_test,y_test),epochs=30,batch_size=200,verbose=2)\n",
    "scores= model.evaluate(X_test,y_test,verbose=0)\n",
    "print(\"Error:%.2f%%\" %(100-scores[1]*100))\n",
    "model.summary()\n",
    "\n"
   ]
  },
  {
   "cell_type": "code",
   "execution_count": 0,
   "metadata": {
    "colab": {},
    "colab_type": "code",
    "id": "ZojMJtj9Fwar"
   },
   "outputs": [],
   "source": [
    "# Error = 6.56% and accuracy = 0.9224\n",
    "# Deep learning is able to work on huge amount of data set especially with multi-dimensional data and was able to perform better than KNN\n"
   ]
  },
  {
   "cell_type": "code",
   "execution_count": 33,
   "metadata": {
    "colab": {
     "base_uri": "https://localhost:8080/",
     "height": 69
    },
    "colab_type": "code",
    "id": "rQqlYjK6HA7x",
    "outputId": "44a4bba0-09ed-4aaa-cb34-fa1490207c8d"
   },
   "outputs": [
    {
     "name": "stdout",
     "output_type": "stream",
     "text": [
      "2\n",
      "2\n",
      "dict_keys(['val_loss', 'val_acc', 'loss', 'acc'])\n"
     ]
    }
   ],
   "source": [
    "Y_pred= model.predict(X_test)\n",
    "print(np.argmax(Y_pred[2]))\n",
    "print(np.argmax(y_test[2]))\n",
    "print(history.history.keys())\n"
   ]
  },
  {
   "cell_type": "code",
   "execution_count": 34,
   "metadata": {
    "colab": {
     "base_uri": "https://localhost:8080/",
     "height": 573
    },
    "colab_type": "code",
    "id": "FHy_4Wc0K8xF",
    "outputId": "a273de87-cd46-43dd-edec-333f68100fc7"
   },
   "outputs": [
    {
     "data": {
      "image/png": "[encoded data removed]",
      "text/plain": [
       "<Figure size 432x288 with 1 Axes>"
      ]
     },
     "metadata": {
      "tags": []
     },
     "output_type": "display_data"
    },
    {
     "data": {
      "image/png": "[encoded data removed]",
      "text/plain": [
       "<Figure size 432x288 with 1 Axes>"
      ]
     },
     "metadata": {
      "tags": []
     },
     "output_type": "display_data"
    }
   ],
   "source": [
    "#summarize history for accuracy\n",
    "plt.plot(history.history['acc'])\n",
    "plt.plot(history.history['val_acc'])\n",
    "plt.title('model accuracy')\n",
    "plt.ylabel('accuracy')\n",
    "plt.xlabel('epoch')\n",
    "plt.legend(['train','test'],loc='upper left')\n",
    "plt.show()\n",
    "# summarize history for loss\n",
    "plt.plot(history.history['loss'])\n",
    "plt.plot(history.history['val_loss'])\n",
    "plt.title('model loss')\n",
    "plt.ylabel('loss')\n",
    "plt.xlabel('epoch')\n",
    "plt.legend(['train','test'],loc='upper left')\n",
    "plt.show()\n"
   ]
  },
  {
   "cell_type": "markdown",
   "metadata": {
    "colab_type": "text",
    "id": "g0rNgN5VF2Nt"
   },
   "source": []
  }
 ],
 "metadata": {
  "colab": {
   "collapsed_sections": [],
   "name": "Copy of SVHN.ipynb",
   "provenance": []
  },
  "kernelspec": {
   "display_name": "Python 3",
   "language": "python",
   "name": "python3"
  },
  "language_info": {
   "codemirror_mode": {
    "name": "ipython",
    "version": 3
   },
   "file_extension": ".py",
   "mimetype": "text/x-python",
   "name": "python",
   "nbconvert_exporter": "python",
   "pygments_lexer": "ipython3",
   "version": "3.7.4"
  }
 },
 "nbformat": 4,
 "nbformat_minor": 1
}
